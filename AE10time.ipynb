{
 "cells": [
  {
   "cell_type": "markdown",
   "metadata": {},
   "source": [
    "# AE\n",
    "- MVTechADの論文に従って１万枚にデータ拡張\n",
    "- 300エポック学習"
   ]
  },
  {
   "cell_type": "code",
   "execution_count": 2,
   "metadata": {},
   "outputs": [],
   "source": [
    "import sys\n",
    "import glob\n",
    "import os\n",
    "import numpy as np\n",
    "import pickle\n",
    "import matplotlib.pyplot as plt\n",
    "from PIL import Image"
   ]
  },
  {
   "cell_type": "code",
   "execution_count": 7,
   "metadata": {},
   "outputs": [],
   "source": [
    "%matplotlib inline\n",
    "import scipy.stats as sct\n",
    "import numpy as np\n",
    "import matplotlib.pyplot as plt\n",
    "import matplotlib.cm as cm\n",
    "from ipywidgets import interact, fixed\n",
    "import glob\n",
    "import pickle\n",
    "from pprint import pprint\n",
    "import os\n",
    "from PIL import Image\n",
    "from tqdm import tqdm"
   ]
  },
  {
   "cell_type": "code",
   "execution_count": 3,
   "metadata": {},
   "outputs": [
    {
     "name": "stdout",
     "output_type": "stream",
     "text": [
      "['bottle', 'cable', 'capsule', 'carpet', 'grid', 'hazelnut', 'leather', 'metal_nut', 'pill', 'screw', 'tile', 'toothbrush', 'transistor', 'wood', 'zipper']\n"
     ]
    }
   ],
   "source": [
    "result_dir = \"./dc_img/16\"\n",
    "dirlist = sorted(glob.glob(os.path.join(result_dir, \"*\")))\n",
    "classnames = sorted(list(set([os.path.basename(d).split('_')[1] for d in dirlist])))\n",
    "classnames = [c if c!='metal' else 'metal_nut' for c in classnames]\n",
    "print(classnames)"
   ]
  },
  {
   "cell_type": "code",
   "execution_count": 4,
   "metadata": {},
   "outputs": [],
   "source": [
    "# %%html\n",
    "# <style>\n",
    "# div.input {\n",
    "#     display:none;\n",
    "# }\n",
    "# </style>"
   ]
  },
  {
   "cell_type": "markdown",
   "metadata": {},
   "source": [
    "## AUCの最大値"
   ]
  },
  {
   "cell_type": "code",
   "execution_count": 5,
   "metadata": {},
   "outputs": [
    {
     "name": "stdout",
     "output_type": "stream",
     "text": [
      "bottle          7 / 0.975 0.974 0.978 0.974 0.972 0.973 0.971 \t\t\t\t\tavg=0.97\n",
      "cable           4 / 0.832 0.816 0.802 0.820 \t\t\t\t\tavg=0.82\n",
      "capsule         3 / 0.685 0.776 0.756 \t\t\t\t\tavg=0.74\n",
      "carpet          8 / 0.917 0.932 0.908 0.928 0.890 0.942 0.929 0.936 \t\t\t\t\tavg=0.92\n",
      "grid            6 / 0.818 0.801 0.814 0.809 0.831 0.852 \t\t\t\t\tavg=0.82\n",
      "hazelnut        8 / 0.979 0.979 0.949 0.979 0.980 0.972 0.985 0.978 \t\t\t\t\tavg=0.98\n",
      "leather         6 / 0.829 0.821 0.832 0.769 0.785 0.843 \t\t\t\t\tavg=0.81\n",
      "metal_nut       6 / 0.612 0.651 0.598 0.607 0.583 0.577 \t\t\t\t\tavg=0.60\n",
      "pill            8 / 0.815 0.754 0.771 0.770 0.777 0.765 0.727 0.777 \t\t\t\t\tavg=0.77\n",
      "screw           8 / 1.000 1.000 1.000 1.000 1.000 1.000 1.000 1.000 \t\t\t\t\tavg=1.00\n",
      "tile            7 / 0.733 0.746 0.733 0.731 0.741 0.730 0.734 \t\t\t\t\tavg=0.74\n",
      "toothbrush      5 / 0.986 0.992 0.986 0.994 0.994 \t\t\t\t\tavg=0.99\n",
      "transistor      9 / 0.828 0.822 0.807 0.772 0.819 0.818 0.836 0.750 0.782 \t\t\t\t\tavg=0.80\n",
      "wood            8 / 0.957 0.957 0.954 0.952 0.961 0.924 0.968 0.938 \t\t\t\t\tavg=0.95\n",
      "zipper          8 / 0.814 0.790 0.797 0.822 0.775 0.803 0.797 0.764 \t\t\t\t\tavg=0.80\n"
     ]
    }
   ],
   "source": [
    "for c in classnames:\n",
    "    print(\"{:<15}\".format(c), end=' ')\n",
    "    eachclass_results = glob.glob(os.path.join(result_dir, \"MSE_{c}_128_MSELOSS_digest_10time*\".format(c=c)))\n",
    "    avg = 0\n",
    "    l = len(eachclass_results)\n",
    "    print(l, end=' / ')\n",
    "    for directory in eachclass_results:\n",
    "        plots_auc_name = os.path.join(directory, '0000_plots_auc.pcl')\n",
    "        with open(plots_auc_name, 'rb') as f:\n",
    "            plots_auc = pickle.load(f)\n",
    "            # maxauc = np.max(plots_auc[\"val\"][1][:100]) # 100エポックで打ち切り\n",
    "            maxauc = np.max(plots_auc[\"val\"][1])\n",
    "            avg += maxauc\n",
    "            print(\"{:.3f}\".format(maxauc), end=' ')\n",
    "    if l != 0:\n",
    "        avg /= l\n",
    "        print(\"\\t\\t\\t\\t\\tavg={:.2f}\".format(avg))\n",
    "    else:\n",
    "        print(\"\")"
   ]
  },
  {
   "cell_type": "code",
   "execution_count": null,
   "metadata": {},
   "outputs": [],
   "source": [
    "## AUCの最終値 (300エポック)"
   ]
  },
  {
   "cell_type": "code",
   "execution_count": null,
   "metadata": {},
   "outputs": [],
   "source": [
    "# for directory in dirlist:\n",
    "#     print(\"{:<15}\".format(directory.split('/')[-1][4:-38]), end=' ')\n",
    "#     plots_auc_name = os.path.join(directory, '0000_plots_auc.pcl')\n",
    "#     with open(plots_auc_name, 'rb') as f:\n",
    "#         plots_auc = pickle.load(f)\n",
    "#         print(\"{:.2f}\".format(plots_auc[\"val\"][1][-1]))"
   ]
  },
  {
   "cell_type": "code",
   "execution_count": null,
   "metadata": {},
   "outputs": [],
   "source": [
    "## AUCの最大値と最終値(300epoch)の比較"
   ]
  },
  {
   "cell_type": "code",
   "execution_count": null,
   "metadata": {},
   "outputs": [],
   "source": [
    "# print(\"{:<15}\\t{}\\t{}\".format(\"label\", \"max\", \"last\"))\n",
    "# for directory in dirlist:\n",
    "#     print(\"{:<15}\".format(directory.split('/')[-1][4:-38]), end=' ')\n",
    "#     plots_auc_name = os.path.join(directory, '0000_plots_auc.pcl')\n",
    "#     with open(plots_auc_name, 'rb') as f:\n",
    "#         plots_auc = pickle.load(f)\n",
    "#         print(\"{:.2f}\".format(np.max(plots_auc[\"val\"][1])), end='\\t')\n",
    "#         print(\"{:.2f}\".format(plots_auc[\"val\"][1][-1]))"
   ]
  },
  {
   "cell_type": "code",
   "execution_count": null,
   "metadata": {},
   "outputs": [],
   "source": []
  },
  {
   "cell_type": "code",
   "execution_count": null,
   "metadata": {},
   "outputs": [],
   "source": []
  },
  {
   "cell_type": "code",
   "execution_count": null,
   "metadata": {},
   "outputs": [],
   "source": []
  },
  {
   "cell_type": "markdown",
   "metadata": {},
   "source": [
    "## ScrewのAUCのグラフ\n",
    "- 横軸 : epoch\n",
    "- 縦軸 : AUC\n",
    "\n",
    "AEの学習がうまくいっておらず初期値の方が良い例"
   ]
  },
  {
   "cell_type": "code",
   "execution_count": 9,
   "metadata": {},
   "outputs": [],
   "source": [
    "def plot_graph(screw_dir):\n",
    "    plots_auc_name = os.path.join(screw_dir, '0000_plots_auc.pcl')\n",
    "    with open(plots_auc_name, 'rb') as f:\n",
    "            plots_auc = pickle.load(f)\n",
    "    plt.rcParams['figure.figsize'] = (5.0, 5.0)\n",
    "    plt.figure()\n",
    "    plt.title('Screw')\n",
    "    plt.plot(plots_auc[\"val\"][1])"
   ]
  },
  {
   "cell_type": "code",
   "execution_count": 18,
   "metadata": {},
   "outputs": [],
   "source": [
    "def plot_class(c):\n",
    "    screw_dirs = glob.glob(os.path.join(result_dir, \"*\"+c+\"*\"))\n",
    "    interact(plot_graph, screw_dir=screw_dirs)"
   ]
  },
  {
   "cell_type": "code",
   "execution_count": 19,
   "metadata": {},
   "outputs": [
    {
     "data": {
      "application/vnd.jupyter.widget-view+json": {
       "model_id": "a8cec0f109b540fdb4fb077af9d0ccf8",
       "version_major": 2,
       "version_minor": 0
      },
      "text/plain": [
       "interactive(children=(Dropdown(description='c', options=('bottle', 'cable', 'capsule', 'carpet', 'grid', 'haze…"
      ]
     },
     "metadata": {},
     "output_type": "display_data"
    },
    {
     "data": {
      "text/plain": [
       "<function __main__.plot_class(c)>"
      ]
     },
     "execution_count": 19,
     "metadata": {},
     "output_type": "execute_result"
    }
   ],
   "source": [
    "interact(plot_class, c=['bottle', 'cable', 'capsule', 'carpet', 'grid', 'hazelnut', 'leather', 'metal_nut', 'pill', 'screw', 'tile', 'toothbrush', 'transistor', 'wood', 'zipper'])"
   ]
  },
  {
   "cell_type": "markdown",
   "metadata": {},
   "source": [
    "## BottleのAUCのグラフ\n",
    "- 横軸 : epoch\n",
    "- 縦軸 : AUC\n",
    "\n",
    "最終値のAUCで問題なさそうな例"
   ]
  },
  {
   "cell_type": "code",
   "execution_count": 42,
   "metadata": {},
   "outputs": [
    {
     "data": {
      "text/plain": [
       "[<matplotlib.lines.Line2D at 0x7f3716875828>]"
      ]
     },
     "execution_count": 42,
     "metadata": {},
     "output_type": "execute_result"
    },
    {
     "data": {
      "image/png": "[encoded data removed]",
      "text/plain": [
       "<Figure size 360x360 with 1 Axes>"
      ]
     },
     "metadata": {
      "needs_background": "light"
     },
     "output_type": "display_data"
    }
   ],
   "source": [
    "screw_dir = glob.glob(os.path.join(result_dir, \"*bottle*\"))[0]\n",
    "plots_auc_name = os.path.join(screw_dir, '0000_plots_auc.pcl')\n",
    "with open(plots_auc_name, 'rb') as f:\n",
    "        plots_auc = pickle.load(f)\n",
    "plt.rcParams['figure.figsize'] = (5.0, 5.0)\n",
    "plt.figure()\n",
    "plt.title('bottle')\n",
    "plt.plot(plots_auc[\"val\"][1])"
   ]
  },
  {
   "cell_type": "code",
   "execution_count": null,
   "metadata": {},
   "outputs": [],
   "source": []
  }
 ],
 "metadata": {
  "kernelspec": {
   "display_name": "Python 3",
   "language": "python",
   "name": "python3"
  },
  "language_info": {
   "codemirror_mode": {
    "name": "ipython",
    "version": 3
   },
   "file_extension": ".py",
   "mimetype": "text/x-python",
   "name": "python",
   "nbconvert_exporter": "python",
   "pygments_lexer": "ipython3",
   "version": "3.6.7"
  }
 },
 "nbformat": 4,
 "nbformat_minor": 2
}
