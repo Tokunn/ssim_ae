{
 "cells": [
  {
   "cell_type": "markdown",
   "metadata": {},
   "source": [
    "# AE\n",
    "- MVTechADの論文に従って１万枚にデータ拡張\n",
    "- 300エポック学習"
   ]
  },
  {
   "cell_type": "code",
   "execution_count": null,
   "metadata": {},
   "outputs": [],
   "source": [
    "import sys\n",
    "import glob\n",
    "import os\n",
    "import numpy as np\n",
    "import pickle\n",
    "import matplotlib.pyplot as plt\n",
    "from PIL import Image"
   ]
  },
  {
   "cell_type": "code",
   "execution_count": null,
   "metadata": {},
   "outputs": [],
   "source": [
    "result_dir = \"./dc_img/13\"\n",
    "dirlist = sorted(glob.glob(os.path.join(result_dir, \"*\")))"
   ]
  },
  {
   "cell_type": "code",
   "execution_count": null,
   "metadata": {},
   "outputs": [],
   "source": [
    "# %%html\n",
    "# <style>\n",
    "# div.input {\n",
    "#     display:none;\n",
    "# }\n",
    "# </style>"
   ]
  },
  {
   "cell_type": "code",
   "execution_count": null,
   "metadata": {},
   "outputs": [],
   "source": [
    "## AUCの最大値"
   ]
  },
  {
   "cell_type": "code",
   "execution_count": null,
   "metadata": {},
   "outputs": [],
   "source": [
    "# for directory in dirlist:\n",
    "#     print(\"{:<15}\".format(directory.split('/')[-1][4:-38]), end=' ')\n",
    "#     plots_auc_name = os.path.join(directory, '0000_plots_auc.pcl')\n",
    "#     with open(plots_auc_name, 'rb') as f:\n",
    "#         plots_auc = pickle.load(f)\n",
    "#         print(\"{:.2f}\".format(np.max(plots_auc[\"val\"][1])))"
   ]
  },
  {
   "cell_type": "code",
   "execution_count": null,
   "metadata": {},
   "outputs": [],
   "source": [
    "## AUCの最終値 (300エポック)"
   ]
  },
  {
   "cell_type": "code",
   "execution_count": null,
   "metadata": {},
   "outputs": [],
   "source": [
    "# for directory in dirlist:\n",
    "#     print(\"{:<15}\".format(directory.split('/')[-1][4:-38]), end=' ')\n",
    "#     plots_auc_name = os.path.join(directory, '0000_plots_auc.pcl')\n",
    "#     with open(plots_auc_name, 'rb') as f:\n",
    "#         plots_auc = pickle.load(f)\n",
    "#         print(\"{:.2f}\".format(plots_auc[\"val\"][1][-1]))"
   ]
  },
  {
   "cell_type": "markdown",
   "metadata": {},
   "source": [
    "## AUCの最大値と最終値(300epoch)の比較"
   ]
  },
  {
   "cell_type": "code",
   "execution_count": null,
   "metadata": {},
   "outputs": [],
   "source": [
    "print(\"{:<15}\\t{}\\t{}\".format(\"label\", \"max\", \"last\"))\n",
    "for directory in dirlist:\n",
    "    print(\"{:<15}\".format(directory.split('/')[-1][4:-38]), end=' ')\n",
    "    plots_auc_name = os.path.join(directory, '0000_plots_auc.pcl')\n",
    "    with open(plots_auc_name, 'rb') as f:\n",
    "        plots_auc = pickle.load(f)\n",
    "        print(\"{:.2f}\".format(np.max(plots_auc[\"val\"][1])), end='\\t')\n",
    "        print(\"{:.2f}\".format(plots_auc[\"val\"][1][-1]))"
   ]
  },
  {
   "cell_type": "code",
   "execution_count": null,
   "metadata": {},
   "outputs": [],
   "source": []
  },
  {
   "cell_type": "code",
   "execution_count": null,
   "metadata": {},
   "outputs": [],
   "source": []
  },
  {
   "cell_type": "code",
   "execution_count": null,
   "metadata": {},
   "outputs": [],
   "source": []
  },
  {
   "cell_type": "markdown",
   "metadata": {},
   "source": [
    "## ScrewのAUCのグラフ\n",
    "- 横軸 : epoch\n",
    "- 縦軸 : AUC\n",
    "\n",
    "AEの学習がうまくいっておらず初期値の方が良い例"
   ]
  },
  {
   "cell_type": "code",
   "execution_count": null,
   "metadata": {},
   "outputs": [],
   "source": [
    "screw_dir = glob.glob(os.path.join(result_dir, \"*screw*\"))[0]\n",
    "plots_auc_name = os.path.join(screw_dir, '0000_plots_auc.pcl')\n",
    "with open(plots_auc_name, 'rb') as f:\n",
    "        plots_auc = pickle.load(f)\n",
    "plt.rcParams['figure.figsize'] = (5.0, 5.0)\n",
    "plt.figure()\n",
    "plt.title('Screw')\n",
    "plt.plot(plots_auc[\"val\"][1])"
   ]
  },
  {
   "cell_type": "code",
   "execution_count": null,
   "metadata": {},
   "outputs": [],
   "source": []
  },
  {
   "cell_type": "markdown",
   "metadata": {},
   "source": [
    "## BottleのAUCのグラフ\n",
    "- 横軸 : epoch\n",
    "- 縦軸 : AUC\n",
    "\n",
    "最終値のAUCで問題なさそうな例"
   ]
  },
  {
   "cell_type": "code",
   "execution_count": null,
   "metadata": {},
   "outputs": [],
   "source": [
    "screw_dir = glob.glob(os.path.join(result_dir, \"*bottle*\"))[0]\n",
    "plots_auc_name = os.path.join(screw_dir, '0000_plots_auc.pcl')\n",
    "with open(plots_auc_name, 'rb') as f:\n",
    "        plots_auc = pickle.load(f)\n",
    "plt.rcParams['figure.figsize'] = (5.0, 5.0)\n",
    "plt.figure()\n",
    "plt.title('bottle')\n",
    "plt.plot(plots_auc[\"val\"][1])"
   ]
  },
  {
   "cell_type": "code",
   "execution_count": null,
   "metadata": {},
   "outputs": [],
   "source": []
  }
 ],
 "metadata": {
  "kernelspec": {
   "display_name": "Python 3",
   "language": "python",
   "name": "python3"
  },
  "language_info": {
   "codemirror_mode": {
    "name": "ipython",
    "version": 3
   },
   "file_extension": ".py",
   "mimetype": "text/x-python",
   "name": "python",
   "nbconvert_exporter": "python",
   "pygments_lexer": "ipython3",
   "version": "3.6.7"
  }
 },
 "nbformat": 4,
 "nbformat_minor": 2
}
